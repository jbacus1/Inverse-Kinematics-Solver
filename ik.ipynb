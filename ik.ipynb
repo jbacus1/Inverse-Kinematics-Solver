{
 "cells": [
  {
   "cell_type": "markdown",
   "metadata": {},
   "source": [
    "# Inverse Kinematics\n",
    "\n",
    "### Developed as a part of the Dartmouth CS70 curriculum\n",
    "### Author: Jacob Bacus\n",
    "---\n",
    "\n",
    "This notebook contains 4 functions along with relevant import statements and demos. \n",
    "The functions are as follows:\n",
    "\n",
    "- `chain` represents a collection of segments using forward kinematics to solve for positions. \n",
    "\n",
    "- `dchain` finds the jacobian of for a chain (taking in an array of angles)\n",
    "\n",
    "- `newton` Uses Newton's Method to solve the inverse kinematics problem of the chain updating of segments in the chain based on the error from the endpoint (uses pseudoinverse for calculation)\n",
    "\n",
    "- `ik_demo` provides a live demo of a chain being moved based on inverse kinematics. Two examples are given, a chain with 4 segments and a chain with 30. The red endpoint can be dragged and the chain will adjust accordingly. Note that at high segment counts, fast movements will become difficult to calculate and the chain may fail to reach the desired endpoint."
   ]
  },
  {
   "cell_type": "code",
   "execution_count": 21,
   "metadata": {
    "execution": {
     "iopub.execute_input": "2023-01-04T03:28:27.980988Z",
     "iopub.status.busy": "2023-01-04T03:28:27.980570Z",
     "iopub.status.idle": "2023-01-04T03:28:28.178175Z",
     "shell.execute_reply": "2023-01-04T03:28:28.178438Z"
    }
   },
   "outputs": [],
   "source": [
    "import numpy as np\n",
    "import scipy.linalg as la\n",
    "\n",
    "# New: Optimization package\n",
    "import scipy.optimize as opt\n",
    "\n",
    "# bqplot plotting library\n",
    "import bqplot as bqp\n",
    "\n",
    "# Import graphical user interface components used below\n",
    "from ipywidgets import interact\n",
    "from ipywidgets import FloatSlider, VBox"
   ]
  },
  {
   "cell_type": "code",
   "execution_count": 4,
   "metadata": {},
   "outputs": [
    {
     "name": "stdout",
     "output_type": "stream",
     "text": [
      "chain:      [3.31597858 1.80146708]\n",
      "reference:  [3.31597858 1.80146708]\n",
      "\n",
      "chain:      [ 0.0000000e+00 -2.4492936e-16]\n",
      "reference:  [0 0]\n"
     ]
    }
   ],
   "source": [
    "def chain(theta):\n",
    "    if len(theta) == 0:\n",
    "        return np.array([0., 0.])\n",
    "    else:\n",
    "        # Goes to the last joint until it hits the end\n",
    "        prev_pos = chain(theta[:-1])\n",
    "        # Compute the position of the current joint\n",
    "        x = prev_pos[0] + np.cos(np.sum(theta))\n",
    "        y = prev_pos[1] + np.sin(np.sum(theta))\n",
    "        return np.array([x, y])\n",
    "\n",
    "# TESTS\n",
    "print('chain:     ', chain([0.1, 0.2, 0.3, 0.4]))\n",
    "print('reference: ', np.array([ 3.31597858,  1.80146708]))\n",
    "print()\n",
    "print('chain:     ', chain([np.pi, np.pi, np.pi, np.pi]))\n",
    "print('reference: ', np.array([0, 0]))"
   ]
  },
  {
   "cell_type": "code",
   "execution_count": 5,
   "metadata": {
    "execution": {
     "iopub.execute_input": "2023-01-04T03:28:28.210876Z",
     "iopub.status.busy": "2023-01-04T03:28:28.210526Z",
     "iopub.status.idle": "2023-01-04T03:28:28.211892Z",
     "shell.execute_reply": "2023-01-04T03:28:28.212134Z"
    },
    "scrolled": true
   },
   "outputs": [
    {
     "name": "stdout",
     "output_type": "stream",
     "text": [
      "dchain: \n",
      " [[-0. -0. -0. -0.]\n",
      " [ 4.  3.  2.  1.]]\n",
      "reference: \n",
      " [[0. 0. 0. 0.]\n",
      " [4. 3. 2. 1.]]\n",
      "\n",
      "dchain: \n",
      " [[-0.9599961  -0.86016268 -0.56464247]\n",
      " [ 2.77567627  1.7806721   0.82533561]]\n",
      "reference: \n",
      " [[-0.9599961  -0.86016268 -0.56464247]\n",
      " [ 2.77567627  1.7806721   0.82533561]]\n"
     ]
    }
   ],
   "source": [
    "def dchain(theta):\n",
    "    n = len(theta)\n",
    "    J = np.zeros((2, n))  # Initial matrix\n",
    "    \n",
    "    # \n",
    "    angle_sum = np.sum(theta)  # Start with sum of angles\n",
    "    x = 0\n",
    "    y = 0\n",
    "    \n",
    "    # Loop over each joint from the last to the first\n",
    "    for i in range(n-1, -1, -1):\n",
    "        # Update the x and y position\n",
    "        x += np.cos(angle_sum)\n",
    "        y += np.sin(angle_sum)\n",
    "        \n",
    "        # Calculate the partial derivatives\n",
    "        J[0, i] = -y\n",
    "        J[1, i] = x   \n",
    "        \n",
    "        # Subtract the from total angle\n",
    "        angle_sum -= theta[i]\n",
    "    \n",
    "    return J\n",
    "\n",
    "# TESTS\n",
    "print('dchain: \\n', dchain([0, 0, 0, 0]))\n",
    "print('reference: \\n', np.array([[ 0.,  0.,  0.,  0.], [ 4.,  3.,  2.,  1.]]))\n",
    "print()\n",
    "print('dchain: \\n', dchain([0.1, 0.2, 0.3]))\n",
    "print('reference: \\n', np.array([[-0.9599961 , -0.86016268, -0.56464247], [ 2.77567627,  1.7806721 ,  0.82533561]]))"
   ]
  },
  {
   "cell_type": "code",
   "execution_count": 6,
   "metadata": {
    "execution": {
     "iopub.execute_input": "2023-01-04T03:28:28.215438Z",
     "iopub.status.busy": "2023-01-04T03:28:28.215016Z",
     "iopub.status.idle": "2023-01-04T03:28:28.216402Z",
     "shell.execute_reply": "2023-01-04T03:28:28.216700Z"
    }
   },
   "outputs": [
    {
     "name": "stdout",
     "output_type": "stream",
     "text": [
      "chain(newton):  [6.123234e-17 1.000000e+00]\n",
      "reference:      [0 1]\n",
      "\n",
      "chain(newton):  [0.5 0.5]\n",
      "reference:      [0.5 0.5]\n"
     ]
    }
   ],
   "source": [
    "def newton(t, target):\n",
    "    for i in range(8):  # Perform 8 iterations\n",
    "        # Compute the current position of guess\n",
    "        current_position = chain(t)\n",
    "        \n",
    "        # Calculate difference in our position and target\n",
    "        error = current_position - target\n",
    "        \n",
    "        # Compute the Jacobian matrix for current angles\n",
    "        J = dchain(t)\n",
    "        \n",
    "        # Use psuedoinverse to update our current guess\n",
    "        t -= la.pinv(J) @ error\n",
    "    \n",
    "    return t\n",
    "\n",
    "# TESTS\n",
    "# Moving a 1-element chain from the default configuration to position (0, 1)\n",
    "print('chain(newton): ', chain(newton(np.array([0.]), np.array([0., 1.]))))\n",
    "print('reference:     ', np.array([0, 1]))\n",
    "print()\n",
    "# Moving a 2-element chain from the default configuration to position (0.5, 0.5)\n",
    "print('chain(newton): ', chain(newton(np.array([0., 0.]), np.array([0.5, 0.5]))))\n",
    "print('reference:     ', np.array([0.5, 0.5]))"
   ]
  },
  {
   "cell_type": "code",
   "execution_count": 7,
   "metadata": {
    "execution": {
     "iopub.execute_input": "2023-01-04T03:28:28.223120Z",
     "iopub.status.busy": "2023-01-04T03:28:28.222754Z",
     "iopub.status.idle": "2023-01-04T03:28:28.224039Z",
     "shell.execute_reply": "2023-01-04T03:28:28.224325Z"
    }
   },
   "outputs": [],
   "source": [
    "def ik_demo(solver, size):    \n",
    "    theta = np.zeros(size, dtype=np.float64)\n",
    "    \n",
    "    # Function which repeatedly calls ``chain`` to compute all joint positions\n",
    "    def chain_all(theta):\n",
    "        return np.column_stack([chain(theta[:i]) for i in range(0, len(theta) + 1)])\n",
    "\n",
    "    # Callback that is invoked when the user drags the red endpoint around\n",
    "    def refresh(_):\n",
    "        # 'theta' is a variable of the parent function, we want to modify it here\n",
    "        nonlocal theta\n",
    "        \n",
    "        # Target position\n",
    "        target = np.array([scat2.x[0], scat2.y[0]])\n",
    "        \n",
    "        # Don't try to solve the problem if the user dragged the point out of the circle\n",
    "        if la.norm(target) > size:\n",
    "            return\n",
    "        \n",
    "        # Call the provided IK solver\n",
    "        theta = solver(theta, target)\n",
    "        \n",
    "        # Update the positions\n",
    "        values = chain_all(theta)\n",
    "        scat.x, scat.y = values\n",
    "        lines.x, lines.y = values\n",
    "    \n",
    "    # Similar to fk_solver(), create a number of plots and merge them\n",
    "    scales = { 'x': bqp.LinearScale(min=-size-1, max=size+1),\n",
    "               'y': bqp.LinearScale(min=-size-1, max=size+1) }\n",
    "\n",
    "    scat  = bqp.Scatter(scales=scales)\n",
    "    lines = bqp.Lines(scales=scales)\n",
    "\n",
    "    # Create a circle which marks the boundary of where the red point can be moved\n",
    "    circle_x = np.cos(np.linspace(0, 2*np.pi, 100)) * size\n",
    "    circle_y = np.sin(np.linspace(0, 2*np.pi, 100)) * size\n",
    "    circle = bqp.Lines(x=circle_x, y=circle_y,\n",
    "                       scales=scales, colors=['gray'])\n",
    "    \n",
    "    # Special plot, which contains the red endpoint that can be moved\n",
    "    scat2 = bqp.Scatter(scales=scales,\n",
    "                        enable_move=True, \n",
    "                        update_on_move=True,\n",
    "                        colors=['red'])\n",
    "\n",
    "    # Initialize the visualizations with the default configuration\n",
    "    values = chain_all(theta)\n",
    "    scat.x, scat.y = values\n",
    "    lines.x, lines.y = values\n",
    "    scat2.x, scat2.y = chain(theta).reshape(2, 1)\n",
    "    \n",
    "    # Call the 'refresh' function when the red dot is moved\n",
    "    scat2.observe(refresh, names=['x', 'y'])\n",
    "\n",
    "    figure = bqp.Figure(marks=[scat, scat2, lines, circle])\n",
    "    figure.layout.height = '500px'\n",
    "    figure.layout.width = '500px'\n",
    "    return figure"
   ]
  },
  {
   "cell_type": "code",
   "execution_count": 8,
   "metadata": {
    "execution": {
     "iopub.execute_input": "2023-01-04T03:28:28.226223Z",
     "iopub.status.busy": "2023-01-04T03:28:28.225868Z",
     "iopub.status.idle": "2023-01-04T03:28:28.227231Z",
     "shell.execute_reply": "2023-01-04T03:28:28.227485Z"
    },
    "scrolled": false
   },
   "outputs": [
    {
     "data": {
      "application/vnd.jupyter.widget-view+json": {
       "model_id": "b8eeaafd00ab4b65afbc53fd8d38c5da",
       "version_major": 2,
       "version_minor": 0
      },
      "text/plain": [
       "Figure(fig_margin={'top': 60, 'bottom': 60, 'left': 60, 'right': 60}, layout=Layout(height='500px', width='500…"
      ]
     },
     "execution_count": 8,
     "metadata": {},
     "output_type": "execute_result"
    }
   ],
   "source": [
    "ik_demo(newton, 4)"
   ]
  },
  {
   "cell_type": "code",
   "execution_count": 10,
   "metadata": {
    "execution": {
     "iopub.execute_input": "2023-01-04T03:28:28.229269Z",
     "iopub.status.busy": "2023-01-04T03:28:28.228939Z",
     "iopub.status.idle": "2023-01-04T03:28:28.230278Z",
     "shell.execute_reply": "2023-01-04T03:28:28.230509Z"
    },
    "scrolled": false
   },
   "outputs": [
    {
     "data": {
      "application/vnd.jupyter.widget-view+json": {
       "model_id": "aecd357dc656492abb2eba543bdc3b7d",
       "version_major": 2,
       "version_minor": 0
      },
      "text/plain": [
       "Figure(fig_margin={'top': 60, 'bottom': 60, 'left': 60, 'right': 60}, layout=Layout(height='500px', width='500…"
      ]
     },
     "execution_count": 10,
     "metadata": {},
     "output_type": "execute_result"
    }
   ],
   "source": [
    "ik_demo(newton, 30)"
   ]
  },
  {
   "cell_type": "code",
   "execution_count": null,
   "metadata": {},
   "outputs": [],
   "source": []
  }
 ],
 "metadata": {
  "anaconda-cloud": {},
  "kernelspec": {
   "display_name": "Python 3 (ipykernel)",
   "language": "python",
   "name": "python3"
  },
  "language_info": {
   "codemirror_mode": {
    "name": "ipython",
    "version": 3
   },
   "file_extension": ".py",
   "mimetype": "text/x-python",
   "name": "python",
   "nbconvert_exporter": "python",
   "pygments_lexer": "ipython3",
   "version": "3.11.9"
  },
  "widgets": {
   "application/vnd.jupyter.widget-state+json": {
    "state": {
     "239e3a8bf95a45308ae1d891a888668e": {
      "model_module": "bqplot",
      "model_module_version": "^0.5.32",
      "model_name": "LinearScaleModel",
      "state": {
       "_model_module": "bqplot",
       "_model_module_version": "^0.5.32",
       "_model_name": "LinearScaleModel",
       "_view_count": null,
       "_view_module": "bqplot",
       "_view_module_version": "^0.5.32",
       "_view_name": "LinearScale",
       "allow_padding": false,
       "max": 1,
       "mid_range": 0.8,
       "min": 0,
       "min_range": 0.6,
       "reverse": false,
       "stabilized": false
      }
     },
     "5a4eec5c544a4af69bbb9799cd89c2a6": {
      "buffers": [
       {
        "data": "AQAAAAIAAAADAAAABAAAAAUAAAA=",
        "encoding": "base64",
        "path": [
         "sizes",
         "value"
        ]
       }
      ],
      "model_module": "bqplot",
      "model_module_version": "^0.5.32",
      "model_name": "PieModel",
      "state": {
       "_model_module": "bqplot",
       "_model_module_version": "^0.5.32",
       "_model_name": "PieModel",
       "_view_count": null,
       "_view_module": "bqplot",
       "_view_module_version": "^0.5.32",
       "_view_name": "Pie",
       "apply_clip": true,
       "color": null,
       "colors": [
        "#1f77b4",
        "#ff7f0e",
        "#2ca02c",
        "#d62728",
        "#9467bd",
        "#8c564b",
        "#e377c2",
        "#7f7f7f",
        "#bcbd22",
        "#17becf"
       ],
       "display_labels": "inside",
       "display_legend": false,
       "display_values": false,
       "enable_hover": true,
       "end_angle": 360,
       "font_size": "12px",
       "font_weight": "normal",
       "inner_radius": 0.1,
       "interactions": {
        "hover": "tooltip"
       },
       "label_color": null,
       "labels": [],
       "opacities": [],
       "preserve_domain": {},
       "radius": 180,
       "scales": {},
       "scales_metadata": {
        "color": {
         "dimension": "color"
        }
       },
       "selected": null,
       "selected_style": {},
       "sizes": {
        "dtype": "int32",
        "shape": [
         5
        ],
        "type": null,
        "value": {}
       },
       "sort": false,
       "start_angle": 0,
       "stroke": null,
       "tooltip": null,
       "tooltip_location": "mouse",
       "tooltip_style": {
        "opacity": 0.9
       },
       "unselected_style": {},
       "values_format": ".1f",
       "visible": true,
       "x": 0.5,
       "y": 0.5
      }
     },
     "761e0ff82b1d4931b6b7c4db2b2762ff": {
      "model_module": "bqplot",
      "model_module_version": "^0.5.32",
      "model_name": "FigureModel",
      "state": {
       "_dom_classes": [],
       "_model_module": "bqplot",
       "_model_module_version": "^0.5.32",
       "_model_name": "FigureModel",
       "_view_count": null,
       "_view_module": "bqplot",
       "_view_module_version": "^0.5.32",
       "_view_name": "Figure",
       "animation_duration": 0,
       "axes": [],
       "background_style": {},
       "fig_margin": {
        "bottom": 60,
        "left": 60,
        "right": 60,
        "top": 60
       },
       "interaction": null,
       "layout": "IPY_MODEL_f91dd9fe11cd4345b901155f2c5365be",
       "legend_location": "top-right",
       "legend_style": {},
       "legend_text": {},
       "marks": [
        "IPY_MODEL_5a4eec5c544a4af69bbb9799cd89c2a6"
       ],
       "max_aspect_ratio": 100,
       "min_aspect_ratio": 0.01,
       "padding_x": 0,
       "padding_y": 0.025,
       "pixel_ratio": null,
       "scale_x": "IPY_MODEL_d2449f013bf34cd4ac81f9ee4df62b55",
       "scale_y": "IPY_MODEL_239e3a8bf95a45308ae1d891a888668e",
       "theme": "classic",
       "title": "A pie chart!",
       "title_style": {}
      }
     },
     "d2449f013bf34cd4ac81f9ee4df62b55": {
      "model_module": "bqplot",
      "model_module_version": "^0.5.32",
      "model_name": "LinearScaleModel",
      "state": {
       "_model_module": "bqplot",
       "_model_module_version": "^0.5.32",
       "_model_name": "LinearScaleModel",
       "_view_count": null,
       "_view_module": "bqplot",
       "_view_module_version": "^0.5.32",
       "_view_name": "LinearScale",
       "allow_padding": false,
       "max": 1,
       "mid_range": 0.8,
       "min": 0,
       "min_range": 0.6,
       "reverse": false,
       "stabilized": false
      }
     },
     "f91dd9fe11cd4345b901155f2c5365be": {
      "model_module": "@jupyter-widgets/base",
      "model_module_version": "1.2.0",
      "model_name": "LayoutModel",
      "state": {
       "_model_module": "@jupyter-widgets/base",
       "_model_module_version": "1.2.0",
       "_model_name": "LayoutModel",
       "_view_count": null,
       "_view_module": "@jupyter-widgets/base",
       "_view_module_version": "1.2.0",
       "_view_name": "LayoutView",
       "align_content": null,
       "align_items": null,
       "align_self": null,
       "border": null,
       "bottom": null,
       "display": null,
       "flex": null,
       "flex_flow": null,
       "grid_area": null,
       "grid_auto_columns": null,
       "grid_auto_flow": null,
       "grid_auto_rows": null,
       "grid_column": null,
       "grid_gap": null,
       "grid_row": null,
       "grid_template_areas": null,
       "grid_template_columns": null,
       "grid_template_rows": null,
       "height": null,
       "justify_content": null,
       "justify_items": null,
       "left": null,
       "margin": null,
       "max_height": null,
       "max_width": null,
       "min_height": null,
       "min_width": null,
       "object_fit": null,
       "object_position": null,
       "order": null,
       "overflow": null,
       "overflow_x": null,
       "overflow_y": null,
       "padding": null,
       "right": null,
       "top": null,
       "visibility": null,
       "width": null
      }
     }
    },
    "version_major": 2,
    "version_minor": 0
   }
  }
 },
 "nbformat": 4,
 "nbformat_minor": 1
}
